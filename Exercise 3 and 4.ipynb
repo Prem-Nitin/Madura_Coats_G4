{
 "cells": [
  {
   "cell_type": "markdown",
   "id": "f75e852d",
   "metadata": {},
   "source": [
    "# Exercise 3"
   ]
  },
  {
   "cell_type": "code",
   "execution_count": 1,
   "id": "ee9769c8",
   "metadata": {},
   "outputs": [],
   "source": [
    "import pandas as pd\n",
    "import numpy as np\n",
    "import random\n",
    "from dateutil.relativedelta import relativedelta\n",
    "from datetime import date, timedelta, datetime\n",
    "import plotly.graph_objs as go\n",
    "from faker import Faker\n",
    "import time\n",
    "import mysql.connector\n",
    "from IPython.display import display, clear_output\n",
    "from sklearn.preprocessing import MinMaxScaler, LabelEncoder"
   ]
  },
  {
   "cell_type": "code",
   "execution_count": 2,
   "id": "7fbd7cab",
   "metadata": {},
   "outputs": [],
   "source": [
    "# Connect to the MySQL database\n",
    "# Customer_details : id, name, phonenumber, date of birth, age\n",
    "# Location_details : id, latitude, Longitude, Location, Time_stamp\n",
    "db = mysql.connector.connect(\n",
    "    host=\"localhost\",\n",
    "    user=\"root\",\n",
    "    password=\"1234\",\n",
    "    database=\"spa\"\n",
    ")\n",
    "\n",
    "# Create a cursor to interact with the database\n",
    "cursor = db.cursor()"
   ]
  },
  {
   "cell_type": "code",
   "execution_count": 3,
   "id": "d48bb2d8",
   "metadata": {},
   "outputs": [],
   "source": [
    "# Calculate Age using Date of Birth\n",
    "def calculate_age(birth_date):\n",
    "    today = date.today()\n",
    "    age = relativedelta(today, birth_date)\n",
    "    return age.years"
   ]
  },
  {
   "cell_type": "code",
   "execution_count": 4,
   "id": "1bb29abb",
   "metadata": {},
   "outputs": [],
   "source": [
    "# Generate random customer locations with phone numbers and location names\n",
    "def generate_customer_location(customer_id):\n",
    "    location_name, (latitude, longitude) = random.choice(list(locations.items()))\n",
    "    return customer_id, latitude, longitude, location_name"
   ]
  },
  {
   "cell_type": "code",
   "execution_count": 5,
   "id": "97f9a401",
   "metadata": {},
   "outputs": [],
   "source": [
    "# All locations in the Mall\n",
    "locations = {\n",
    "    \"Ice Cream Shop\": (37.7749, -122.4194),\n",
    "    \"Book Store\": (37.7732, -122.4186),\n",
    "    \"Pizzario\": (37.7750, -122.4195),\n",
    "    \"Clothing Store\": (37.7735, -122.4200),\n",
    "    \"Electronics Store\": (37.7740, -122.4170),\n",
    "}\n",
    "\n",
    "# Number of Customers and Simulation Duration\n",
    "num_customers = 50\n",
    "simulation_duration = 60"
   ]
  },
  {
   "cell_type": "code",
   "execution_count": 6,
   "id": "de7a4679",
   "metadata": {},
   "outputs": [],
   "source": [
    "# Generating customer details\n",
    "number = {}\n",
    "fake = Faker()\n",
    "\n",
    "for id in range(1, num_customers + 1):\n",
    "    phone_number = f\"+91-{random.randint(100, 999)}-{random.randint(100, 999)}-{random.randint(1000, 9999)}\"\n",
    "    \n",
    "    dob = date.today() - timedelta(days=random.randint(365 * 18, 365 * 71))\n",
    "    age = calculate_age(dob)\n",
    "    \n",
    "    name = fake.name()\n",
    "    \n",
    "    details_query = \"INSERT INTO customer_details(customerid, customername, phonenumber, dob, age) VALUES (%s, %s, %s, %s, %s)\"\n",
    "    insert_data = (id, name, phone_number, dob, age)\n",
    "    \n",
    "    cursor.execute(details_query, insert_data)\n",
    "    db.commit()    "
   ]
  },
  {
   "cell_type": "markdown",
   "id": "a41e340a",
   "metadata": {},
   "source": [
    "# Simulation"
   ]
  },
  {
   "cell_type": "code",
   "execution_count": 18,
   "id": "e8d80c59",
   "metadata": {},
   "outputs": [],
   "source": [
    "def collect_data():\n",
    "    start_time = time.time()\n",
    "    timestamp_threshold = datetime.now()\n",
    "    location_ = ['Book Store','Clothing Store','Electronics Store','Ice Cream Shop', 'Pizza Store']\n",
    "    df = pd.DataFrame(columns=['customer_id', 'latitude', 'longitude', 'location_name', 'timestamp'])\n",
    "\n",
    "    # Initialize the bar chart\n",
    "    fig_line = go.FigureWidget()\n",
    "    fig_line.update_layout(\n",
    "        title=\"Number of People in Each Location\",\n",
    "        xaxis=dict(title=\"Location\"),\n",
    "        yaxis=dict(title=\"Number of People\"),\n",
    "    )\n",
    "\n",
    "    display(fig_line)\n",
    "    legends = {}\n",
    "    \n",
    "    while time.time() - start_time < simulation_duration:\n",
    "\n",
    "        # Generate random locations with latitude, longitude and location names for each customer\n",
    "        for customer_id in range(1, num_customers + 1):\n",
    "            customer_id, latitude, longitude, location_name = generate_customer_location(customer_id)\n",
    "\n",
    "            date_time = datetime.now()\n",
    "\n",
    "            # Insert customer data into the database\n",
    "            insert_query = \"INSERT INTO location_details (customerid, latitude, longitude, location, timestamp_) VALUES (%s, %s, %s, %s, %s)\"\n",
    "            location_data = (customer_id, latitude, longitude, location_name, date_time)\n",
    "            cursor.execute(insert_query, location_data)\n",
    "            db.commit()\n",
    "\n",
    "        query = \"SELECT * FROM location_details WHERE timestamp_ > %s\"\n",
    "        timestamp_threshold = df['timestamp'].max() if not df.empty else timestamp_threshold\n",
    "        cursor.execute(query, (timestamp_threshold,))\n",
    "\n",
    "        new_data = pd.DataFrame(cursor.fetchall(), columns=['customer_id', 'latitude', 'longitude', 'location_name', 'timestamp'])\n",
    "\n",
    "        if not new_data.empty:\n",
    "            df = pd.concat([df, new_data], ignore_index=True)\n",
    "\n",
    "            # Calculate and update the bar chart with the number of people in each location\n",
    "            location_counts = new_data['location_name'].value_counts()\n",
    "            location_values = {}\n",
    "\n",
    "            for val in location_:\n",
    "                if val not in location_counts.index:\n",
    "                    location_values[val] = 0\n",
    "                else:\n",
    "                    location_values[val] = location_counts[val]\n",
    "\n",
    "            with fig_line.batch_update():\n",
    "                for location in location_:\n",
    "                    location_counts = df[df['location_name'] == location]['timestamp'].value_counts().sort_index()\n",
    "                    if location not in legends:\n",
    "                        legends[location] = True\n",
    "                    else:\n",
    "                        legends[location] = False\n",
    "                    fig_line.add_trace(go.Scatter(x=location_counts.index, y=location_counts.values, mode='lines+markers', name=location, showlegend=legends[location]))\n",
    "                fig_line.update_layout(title=f\"Number of People in Each Location (Line Chart) ({new_data['timestamp'].max()})\")\n",
    "\n",
    "        time.sleep(1)"
   ]
  },
  {
   "cell_type": "markdown",
   "id": "1145cd51",
   "metadata": {},
   "source": [
    "# Exercise 4"
   ]
  },
  {
   "cell_type": "code",
   "execution_count": 13,
   "id": "828410e2",
   "metadata": {},
   "outputs": [],
   "source": [
    "# Cleaning\n",
    "def data_cleaning():\n",
    "    \n",
    "    cursor.execute(\"select * from customer_details\")\n",
    "    customer_data = cursor.fetchall()\n",
    "    customer_data = pd.DataFrame(customer_data, columns = [\"Customer Id\", \"Name\", \"Phone Number\", \"Date of Birth\", \"Age\"])\n",
    "    \n",
    "    cursor.execute(\"select * from location_details\")\n",
    "    location_data = cursor.fetchall()\n",
    "    location_data = pd.DataFrame(location_data, columns = [\"Customer Id\", \"Latitude\", \"Longitude\", \"Location\", \"TimeStamp\"])\n",
    "    \n",
    "    # Filling null values\n",
    "    customer_data.bfill(axis = 'rows')\n",
    "    location_data.bfill(axis = 'rows')\n",
    "    \n",
    "    # Checking Integrity in Data\n",
    "    location_data = location_data[location_data[\"Latitude\"] >= 25]\n",
    "    location_data = location_data[location_data[\"Longitude\"] <= 10]\n",
    "    \n",
    "    locations = ['Book Store','Clothing Store','Electronics Store','Ice Cream Shop', 'Pizza Store']\n",
    "    location_data = location_data[location_data[\"Location\"].isin(locations)]\n",
    "    \n",
    "    return customer_data, location_data"
   ]
  },
  {
   "cell_type": "code",
   "execution_count": 14,
   "id": "f2b5c30c",
   "metadata": {},
   "outputs": [],
   "source": [
    "# Transformation\n",
    "def data_transformation(customer_data, location_data):\n",
    "    scaler = MinMaxScaler()\n",
    "    label = LabelEncoder()\n",
    "    \n",
    "    columns = location_data.columns\n",
    "    \n",
    "    location_data[\"Year\"] = pd.DatetimeIndex(location_data[\"TimeStamp\"]).year\n",
    "    location_data[\"Month\"] = pd.DatetimeIndex(location_data[\"TimeStamp\"]).month\n",
    "    location_data[\"Day\"] = pd.DatetimeIndex(location_data[\"TimeStamp\"]).day\n",
    "    location_data[\"Hour\"] = pd.DatetimeIndex(location_data[\"TimeStamp\"]).hour\n",
    "    \n",
    "    scale_columns = ['Latitude', 'Longitude', 'Year', 'Month', 'Day', 'Hour']\n",
    "    \n",
    "    locations = pd.get_dummies(location_data[\"Location\"], drop_first=True)\n",
    "    location_data[scale_columns] = scaler.fit_transform(location_data[scale_columns])\n",
    "    location_data.drop([\"TimeStamp\"], inplace = True, axis = 1)    \n",
    "    \n",
    "    return customer_data, location_data"
   ]
  },
  {
   "cell_type": "code",
   "execution_count": 15,
   "id": "491060d7",
   "metadata": {},
   "outputs": [],
   "source": [
    "# Processing\n",
    "def data_processing():\n",
    "    # Average Age by Location using window functions\n",
    "    query1 = \"\"\" select distinct(ld.location), avg(cd.age) over (partition BY ld.location) AS avg_age\n",
    "                 from customer_details cd\n",
    "                 inner join location_details ld ON cd.customerid = ld.customerid;\n",
    "            \"\"\"\n",
    "\n",
    "    avg_age_by_location = pd.read_sql(query1, db)\n",
    "    \n",
    "    # Customer in Electronics store or Book Store\n",
    "    query2 = \"\"\" select cd.phonenumber, cd.customerid, cd.customername, cd.age \n",
    "                 from customer_details cd\n",
    "                 inner join location_details ld on cd.customerid = ld.customerid\n",
    "                 where (ld.location = \"Electronics Store\" or ld.location = \"Book Store\")\"\"\"\n",
    "    \n",
    "    data_in_location = pd.read_sql(query2, db)\n",
    "\n",
    "    #grouping w.r.t location and finding number of customer between the time of 1pm to 3pm\n",
    "    query3 = \"\"\"select ld.location, count(distinct(cd.customerid)) as count\n",
    "                from customer_details cd \n",
    "                inner join location_details ld on cd.customerid = ld.customerid\n",
    "                where ld.timestamp_ >= \"2023-09-10 15:7:00\" and ld.timestamp_ <= \"2023-09-10 15:30:00\"\n",
    "                group by ld.location\n",
    "             \"\"\"\n",
    "    group_location = pd.read_sql(query3, db)\n",
    "    \n",
    "    \n",
    "    # Customer Age below 26\n",
    "    query4 = \"\"\"select cd.phonenumber, cd.customername \n",
    "                from customer_details cd\n",
    "                inner join location_details ld on cd.customerid = ld.customerid\n",
    "                where cd.age <= 26\"\"\"\n",
    "    data_under_26 = pd.read_sql(query4, db)\n",
    "    "
   ]
  },
  {
   "cell_type": "code",
   "execution_count": 16,
   "id": "a0abd38c",
   "metadata": {},
   "outputs": [],
   "source": [
    "# Pipeline\n",
    "def streaming_pipeline():\n",
    "    collect_data()\n",
    "    customer_data, location_data = data_cleaning()\n",
    "    customer_data, location_data = data_transformation(customer_data, location_data)\n",
    "    data_processing()"
   ]
  },
  {
   "cell_type": "code",
   "execution_count": 19,
   "id": "a3319fd2",
   "metadata": {},
   "outputs": [
    {
     "data": {
      "application/vnd.jupyter.widget-view+json": {
       "model_id": "6248f18c089641ddbb2500292baa87ce",
       "version_major": 2,
       "version_minor": 0
      },
      "text/plain": [
       "FigureWidget({\n",
       "    'data': [],\n",
       "    'layout': {'template': '...',\n",
       "               'title': {'text': 'Number of People in Each Location'},\n",
       "               'xaxis': {'title': {'text': 'Location'}},\n",
       "               'yaxis': {'title': {'text': 'Number of People'}}}\n",
       "})"
      ]
     },
     "metadata": {},
     "output_type": "display_data"
    }
   ],
   "source": [
    "streaming_pipeline()"
   ]
  },
  {
   "cell_type": "code",
   "execution_count": 81,
   "id": "67fa5838",
   "metadata": {},
   "outputs": [],
   "source": [
    "# cursor.close()\n",
    "db.close()"
   ]
  },
  {
   "cell_type": "code",
   "execution_count": null,
   "id": "9db3cd26",
   "metadata": {},
   "outputs": [],
   "source": []
  }
 ],
 "metadata": {
  "kernelspec": {
   "display_name": "Python 3 (ipykernel)",
   "language": "python",
   "name": "python3"
  },
  "language_info": {
   "codemirror_mode": {
    "name": "ipython",
    "version": 3
   },
   "file_extension": ".py",
   "mimetype": "text/x-python",
   "name": "python",
   "nbconvert_exporter": "python",
   "pygments_lexer": "ipython3",
   "version": "3.7.9"
  }
 },
 "nbformat": 4,
 "nbformat_minor": 5
}
