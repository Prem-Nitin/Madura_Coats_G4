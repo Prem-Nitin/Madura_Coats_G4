{
 "cells": [
  {
   "cell_type": "code",
   "execution_count": 2,
   "id": "7a5b9610",
   "metadata": {},
   "outputs": [],
   "source": [
    "#import necessary packages\n",
    "import pandas as pd\n",
    "import numpy as np\n",
    "import seaborn as sns\n",
    "import matplotlib.pyplot as plt\n",
    "import random\n",
    "from sklearn.metrics import silhouette_score\n",
    "from sklearn.preprocessing import StandardScaler\n",
    "from sklearn.model_selection import train_test_split\n",
    "import warnings\n",
    "warnings.filterwarnings(\"ignore\")"
   ]
  },
  {
   "cell_type": "code",
   "execution_count": 3,
   "id": "ea202bd7",
   "metadata": {},
   "outputs": [
    {
     "data": {
      "text/html": [
       "<div>\n",
       "<style scoped>\n",
       "    .dataframe tbody tr th:only-of-type {\n",
       "        vertical-align: middle;\n",
       "    }\n",
       "\n",
       "    .dataframe tbody tr th {\n",
       "        vertical-align: top;\n",
       "    }\n",
       "\n",
       "    .dataframe thead th {\n",
       "        text-align: right;\n",
       "    }\n",
       "</style>\n",
       "<table border=\"1\" class=\"dataframe\">\n",
       "  <thead>\n",
       "    <tr style=\"text-align: right;\">\n",
       "      <th></th>\n",
       "      <th>CustomerID</th>\n",
       "      <th>Gender</th>\n",
       "      <th>Age</th>\n",
       "      <th>Annual Income (k$)</th>\n",
       "      <th>Spending Score (1-100)</th>\n",
       "    </tr>\n",
       "  </thead>\n",
       "  <tbody>\n",
       "    <tr>\n",
       "      <th>0</th>\n",
       "      <td>1</td>\n",
       "      <td>Male</td>\n",
       "      <td>19</td>\n",
       "      <td>15</td>\n",
       "      <td>39</td>\n",
       "    </tr>\n",
       "    <tr>\n",
       "      <th>1</th>\n",
       "      <td>2</td>\n",
       "      <td>Male</td>\n",
       "      <td>21</td>\n",
       "      <td>15</td>\n",
       "      <td>81</td>\n",
       "    </tr>\n",
       "    <tr>\n",
       "      <th>2</th>\n",
       "      <td>3</td>\n",
       "      <td>Female</td>\n",
       "      <td>20</td>\n",
       "      <td>16</td>\n",
       "      <td>6</td>\n",
       "    </tr>\n",
       "    <tr>\n",
       "      <th>3</th>\n",
       "      <td>4</td>\n",
       "      <td>Female</td>\n",
       "      <td>23</td>\n",
       "      <td>16</td>\n",
       "      <td>77</td>\n",
       "    </tr>\n",
       "    <tr>\n",
       "      <th>4</th>\n",
       "      <td>5</td>\n",
       "      <td>Female</td>\n",
       "      <td>31</td>\n",
       "      <td>17</td>\n",
       "      <td>40</td>\n",
       "    </tr>\n",
       "  </tbody>\n",
       "</table>\n",
       "</div>"
      ],
      "text/plain": [
       "   CustomerID  Gender  Age  Annual Income (k$)  Spending Score (1-100)\n",
       "0           1    Male   19                  15                      39\n",
       "1           2    Male   21                  15                      81\n",
       "2           3  Female   20                  16                       6\n",
       "3           4  Female   23                  16                      77\n",
       "4           5  Female   31                  17                      40"
      ]
     },
     "execution_count": 3,
     "metadata": {},
     "output_type": "execute_result"
    }
   ],
   "source": [
    "# Loading Dataset\n",
    "df = pd.read_csv(r\"D:/Madura Cotts Dataset/pizza_customers.csv\")\n",
    "df.head()"
   ]
  },
  {
   "cell_type": "code",
   "execution_count": 4,
   "id": "203d7e72",
   "metadata": {},
   "outputs": [
    {
     "data": {
      "text/plain": [
       "(200, 5)"
      ]
     },
     "execution_count": 4,
     "metadata": {},
     "output_type": "execute_result"
    }
   ],
   "source": [
    "df.shape"
   ]
  },
  {
   "cell_type": "code",
   "execution_count": 5,
   "id": "3bfa681a",
   "metadata": {},
   "outputs": [
    {
     "data": {
      "text/plain": [
       "CustomerID                False\n",
       "Gender                    False\n",
       "Age                       False\n",
       "Annual Income (k$)        False\n",
       "Spending Score (1-100)    False\n",
       "dtype: bool"
      ]
     },
     "execution_count": 5,
     "metadata": {},
     "output_type": "execute_result"
    }
   ],
   "source": [
    "# Checking is there any null values \n",
    "df.isnull().any()"
   ]
  },
  {
   "cell_type": "code",
   "execution_count": 6,
   "id": "04839622",
   "metadata": {},
   "outputs": [
    {
     "data": {
      "text/html": [
       "<div>\n",
       "<style scoped>\n",
       "    .dataframe tbody tr th:only-of-type {\n",
       "        vertical-align: middle;\n",
       "    }\n",
       "\n",
       "    .dataframe tbody tr th {\n",
       "        vertical-align: top;\n",
       "    }\n",
       "\n",
       "    .dataframe thead th {\n",
       "        text-align: right;\n",
       "    }\n",
       "</style>\n",
       "<table border=\"1\" class=\"dataframe\">\n",
       "  <thead>\n",
       "    <tr style=\"text-align: right;\">\n",
       "      <th></th>\n",
       "      <th>CustomerID</th>\n",
       "      <th>Age</th>\n",
       "      <th>Annual Income (k$)</th>\n",
       "      <th>Spending Score (1-100)</th>\n",
       "    </tr>\n",
       "  </thead>\n",
       "  <tbody>\n",
       "    <tr>\n",
       "      <th>count</th>\n",
       "      <td>200.000000</td>\n",
       "      <td>200.000000</td>\n",
       "      <td>200.000000</td>\n",
       "      <td>200.000000</td>\n",
       "    </tr>\n",
       "    <tr>\n",
       "      <th>mean</th>\n",
       "      <td>100.500000</td>\n",
       "      <td>38.850000</td>\n",
       "      <td>60.560000</td>\n",
       "      <td>50.200000</td>\n",
       "    </tr>\n",
       "    <tr>\n",
       "      <th>std</th>\n",
       "      <td>57.879185</td>\n",
       "      <td>13.969007</td>\n",
       "      <td>26.264721</td>\n",
       "      <td>25.823522</td>\n",
       "    </tr>\n",
       "    <tr>\n",
       "      <th>min</th>\n",
       "      <td>1.000000</td>\n",
       "      <td>18.000000</td>\n",
       "      <td>15.000000</td>\n",
       "      <td>1.000000</td>\n",
       "    </tr>\n",
       "    <tr>\n",
       "      <th>25%</th>\n",
       "      <td>50.750000</td>\n",
       "      <td>28.750000</td>\n",
       "      <td>41.500000</td>\n",
       "      <td>34.750000</td>\n",
       "    </tr>\n",
       "    <tr>\n",
       "      <th>50%</th>\n",
       "      <td>100.500000</td>\n",
       "      <td>36.000000</td>\n",
       "      <td>61.500000</td>\n",
       "      <td>50.000000</td>\n",
       "    </tr>\n",
       "    <tr>\n",
       "      <th>75%</th>\n",
       "      <td>150.250000</td>\n",
       "      <td>49.000000</td>\n",
       "      <td>78.000000</td>\n",
       "      <td>73.000000</td>\n",
       "    </tr>\n",
       "    <tr>\n",
       "      <th>max</th>\n",
       "      <td>200.000000</td>\n",
       "      <td>70.000000</td>\n",
       "      <td>137.000000</td>\n",
       "      <td>99.000000</td>\n",
       "    </tr>\n",
       "  </tbody>\n",
       "</table>\n",
       "</div>"
      ],
      "text/plain": [
       "       CustomerID         Age  Annual Income (k$)  Spending Score (1-100)\n",
       "count  200.000000  200.000000          200.000000              200.000000\n",
       "mean   100.500000   38.850000           60.560000               50.200000\n",
       "std     57.879185   13.969007           26.264721               25.823522\n",
       "min      1.000000   18.000000           15.000000                1.000000\n",
       "25%     50.750000   28.750000           41.500000               34.750000\n",
       "50%    100.500000   36.000000           61.500000               50.000000\n",
       "75%    150.250000   49.000000           78.000000               73.000000\n",
       "max    200.000000   70.000000          137.000000               99.000000"
      ]
     },
     "execution_count": 6,
     "metadata": {},
     "output_type": "execute_result"
    }
   ],
   "source": [
    "df.describe()"
   ]
  },
  {
   "cell_type": "markdown",
   "id": "04c6b3f0",
   "metadata": {},
   "source": [
    "# Pre Processing"
   ]
  },
  {
   "cell_type": "code",
   "execution_count": 7,
   "id": "0d6b00d1",
   "metadata": {},
   "outputs": [],
   "source": [
    "# dropping customer id as it does not contribute any useful information for clustering\n",
    "df.drop([\"CustomerID\"], inplace = True, axis = 1)\n",
    "\n",
    "#Renaming these columns for ease of use\n",
    "df.rename(columns = {\"Annual Income (k$)\" : \"Annual Income\", \"Spending Score (1-100)\" : \"Spending Score\"}, inplace = True)"
   ]
  },
  {
   "cell_type": "code",
   "execution_count": 8,
   "id": "a6d36773",
   "metadata": {},
   "outputs": [
    {
     "name": "stdout",
     "output_type": "stream",
     "text": [
      "<class 'pandas.core.frame.DataFrame'>\n",
      "RangeIndex: 200 entries, 0 to 199\n",
      "Data columns (total 4 columns):\n",
      " #   Column          Non-Null Count  Dtype \n",
      "---  ------          --------------  ----- \n",
      " 0   Gender          200 non-null    object\n",
      " 1   Age             200 non-null    int64 \n",
      " 2   Annual Income   200 non-null    int64 \n",
      " 3   Spending Score  200 non-null    int64 \n",
      "dtypes: int64(3), object(1)\n",
      "memory usage: 6.4+ KB\n"
     ]
    }
   ],
   "source": [
    "df.info()"
   ]
  },
  {
   "cell_type": "code",
   "execution_count": 9,
   "id": "7226a40c",
   "metadata": {},
   "outputs": [
    {
     "data": {
      "text/plain": [
       "Index(['Gender'], dtype='object')"
      ]
     },
     "execution_count": 9,
     "metadata": {},
     "output_type": "execute_result"
    }
   ],
   "source": [
    "# Get categorical and continuous variables\n",
    "continuous_data_types = [\"int64\", \"float64\"]\n",
    "\n",
    "continous_columns = df.select_dtypes(include= continuous_data_types).columns\n",
    "categorical_columns = df.select_dtypes(include = \"object\").columns\n",
    "categorical_columns"
   ]
  },
  {
   "cell_type": "code",
   "execution_count": 10,
   "id": "2c8e40ad",
   "metadata": {},
   "outputs": [
    {
     "data": {
      "text/html": [
       "<div>\n",
       "<style scoped>\n",
       "    .dataframe tbody tr th:only-of-type {\n",
       "        vertical-align: middle;\n",
       "    }\n",
       "\n",
       "    .dataframe tbody tr th {\n",
       "        vertical-align: top;\n",
       "    }\n",
       "\n",
       "    .dataframe thead th {\n",
       "        text-align: right;\n",
       "    }\n",
       "</style>\n",
       "<table border=\"1\" class=\"dataframe\">\n",
       "  <thead>\n",
       "    <tr style=\"text-align: right;\">\n",
       "      <th></th>\n",
       "      <th>Gender_Male</th>\n",
       "    </tr>\n",
       "  </thead>\n",
       "  <tbody>\n",
       "    <tr>\n",
       "      <th>0</th>\n",
       "      <td>1</td>\n",
       "    </tr>\n",
       "    <tr>\n",
       "      <th>1</th>\n",
       "      <td>1</td>\n",
       "    </tr>\n",
       "    <tr>\n",
       "      <th>2</th>\n",
       "      <td>0</td>\n",
       "    </tr>\n",
       "    <tr>\n",
       "      <th>3</th>\n",
       "      <td>0</td>\n",
       "    </tr>\n",
       "    <tr>\n",
       "      <th>4</th>\n",
       "      <td>0</td>\n",
       "    </tr>\n",
       "    <tr>\n",
       "      <th>...</th>\n",
       "      <td>...</td>\n",
       "    </tr>\n",
       "    <tr>\n",
       "      <th>195</th>\n",
       "      <td>0</td>\n",
       "    </tr>\n",
       "    <tr>\n",
       "      <th>196</th>\n",
       "      <td>0</td>\n",
       "    </tr>\n",
       "    <tr>\n",
       "      <th>197</th>\n",
       "      <td>1</td>\n",
       "    </tr>\n",
       "    <tr>\n",
       "      <th>198</th>\n",
       "      <td>1</td>\n",
       "    </tr>\n",
       "    <tr>\n",
       "      <th>199</th>\n",
       "      <td>1</td>\n",
       "    </tr>\n",
       "  </tbody>\n",
       "</table>\n",
       "<p>200 rows × 1 columns</p>\n",
       "</div>"
      ],
      "text/plain": [
       "     Gender_Male\n",
       "0              1\n",
       "1              1\n",
       "2              0\n",
       "3              0\n",
       "4              0\n",
       "..           ...\n",
       "195            0\n",
       "196            0\n",
       "197            1\n",
       "198            1\n",
       "199            1\n",
       "\n",
       "[200 rows x 1 columns]"
      ]
     },
     "execution_count": 10,
     "metadata": {},
     "output_type": "execute_result"
    }
   ],
   "source": [
    "# Encoding the categorical columns \"Gender\" using one hot encoding\n",
    "df_gender = pd.get_dummies(df[categorical_columns], drop_first = True)\n",
    "df_gender"
   ]
  },
  {
   "cell_type": "code",
   "execution_count": 11,
   "id": "1678e201",
   "metadata": {},
   "outputs": [],
   "source": [
    "#The encoded columns is concatenated to original dataframe and the gender column was dropped\n",
    "df = pd.concat([df, df_gender], axis = 1)\n",
    "df.drop(categorical_columns, axis = 1, inplace = True)"
   ]
  },
  {
   "cell_type": "code",
   "execution_count": 12,
   "id": "ec0b2584",
   "metadata": {},
   "outputs": [
    {
     "data": {
      "text/html": [
       "<div>\n",
       "<style scoped>\n",
       "    .dataframe tbody tr th:only-of-type {\n",
       "        vertical-align: middle;\n",
       "    }\n",
       "\n",
       "    .dataframe tbody tr th {\n",
       "        vertical-align: top;\n",
       "    }\n",
       "\n",
       "    .dataframe thead th {\n",
       "        text-align: right;\n",
       "    }\n",
       "</style>\n",
       "<table border=\"1\" class=\"dataframe\">\n",
       "  <thead>\n",
       "    <tr style=\"text-align: right;\">\n",
       "      <th></th>\n",
       "      <th>Age</th>\n",
       "      <th>Annual Income</th>\n",
       "      <th>Spending Score</th>\n",
       "      <th>Gender_Male</th>\n",
       "    </tr>\n",
       "  </thead>\n",
       "  <tbody>\n",
       "    <tr>\n",
       "      <th>0</th>\n",
       "      <td>19</td>\n",
       "      <td>15</td>\n",
       "      <td>39</td>\n",
       "      <td>1</td>\n",
       "    </tr>\n",
       "    <tr>\n",
       "      <th>1</th>\n",
       "      <td>21</td>\n",
       "      <td>15</td>\n",
       "      <td>81</td>\n",
       "      <td>1</td>\n",
       "    </tr>\n",
       "    <tr>\n",
       "      <th>2</th>\n",
       "      <td>20</td>\n",
       "      <td>16</td>\n",
       "      <td>6</td>\n",
       "      <td>0</td>\n",
       "    </tr>\n",
       "    <tr>\n",
       "      <th>3</th>\n",
       "      <td>23</td>\n",
       "      <td>16</td>\n",
       "      <td>77</td>\n",
       "      <td>0</td>\n",
       "    </tr>\n",
       "    <tr>\n",
       "      <th>4</th>\n",
       "      <td>31</td>\n",
       "      <td>17</td>\n",
       "      <td>40</td>\n",
       "      <td>0</td>\n",
       "    </tr>\n",
       "  </tbody>\n",
       "</table>\n",
       "</div>"
      ],
      "text/plain": [
       "   Age  Annual Income  Spending Score  Gender_Male\n",
       "0   19             15              39            1\n",
       "1   21             15              81            1\n",
       "2   20             16               6            0\n",
       "3   23             16              77            0\n",
       "4   31             17              40            0"
      ]
     },
     "execution_count": 12,
     "metadata": {},
     "output_type": "execute_result"
    }
   ],
   "source": [
    "df.head()"
   ]
  },
  {
   "cell_type": "code",
   "execution_count": 13,
   "id": "a211101e",
   "metadata": {},
   "outputs": [],
   "source": [
    "# Splitting the dataset into train and test\n",
    "df_train, df_test = train_test_split(df, test_size = 0.1, random_state = 100)\n",
    "df_train.reset_index(drop = True, inplace=True)"
   ]
  },
  {
   "cell_type": "code",
   "execution_count": 14,
   "id": "1f312a31",
   "metadata": {},
   "outputs": [],
   "source": [
    "# Removing outliers from the train set\n",
    "Q1 = df_train.quantile(0.25)\n",
    "Q3 = df_train.quantile(0.75)\n",
    "IQR = Q3 - Q1\n",
    "lower_bound = Q1 - 1.5 * IQR\n",
    "upper_bound = Q3 + 1.5 * IQR\n",
    "clean_data = df_train[~((df_train < lower_bound) | (df_train > upper_bound)).any(axis=1)]"
   ]
  },
  {
   "cell_type": "code",
   "execution_count": 15,
   "id": "355988c7",
   "metadata": {},
   "outputs": [
    {
     "data": {
      "text/plain": [
       "(178, 4)"
      ]
     },
     "execution_count": 15,
     "metadata": {},
     "output_type": "execute_result"
    }
   ],
   "source": [
    "df_train = clean_data\n",
    "df_train.shape"
   ]
  },
  {
   "cell_type": "code",
   "execution_count": 16,
   "id": "40b19902",
   "metadata": {},
   "outputs": [],
   "source": [
    "#Scaling the numerical features using Standard Scaler\n",
    "scaler = StandardScaler()\n",
    "\n",
    "df_train[continous_columns] = scaler.fit_transform(df_train[continous_columns])\n",
    "# df_train = pd.DataFrame(df_train, columns = df.columns)\n",
    "df_test[continous_columns] = scaler.transform(df_test[continous_columns])"
   ]
  },
  {
   "cell_type": "code",
   "execution_count": 17,
   "id": "eac166a9",
   "metadata": {},
   "outputs": [
    {
     "data": {
      "text/html": [
       "<div>\n",
       "<style scoped>\n",
       "    .dataframe tbody tr th:only-of-type {\n",
       "        vertical-align: middle;\n",
       "    }\n",
       "\n",
       "    .dataframe tbody tr th {\n",
       "        vertical-align: top;\n",
       "    }\n",
       "\n",
       "    .dataframe thead th {\n",
       "        text-align: right;\n",
       "    }\n",
       "</style>\n",
       "<table border=\"1\" class=\"dataframe\">\n",
       "  <thead>\n",
       "    <tr style=\"text-align: right;\">\n",
       "      <th></th>\n",
       "      <th>Age</th>\n",
       "      <th>Annual Income</th>\n",
       "      <th>Spending Score</th>\n",
       "      <th>Gender_Male</th>\n",
       "    </tr>\n",
       "  </thead>\n",
       "  <tbody>\n",
       "    <tr>\n",
       "      <th>0</th>\n",
       "      <td>-0.287314</td>\n",
       "      <td>-1.572712</td>\n",
       "      <td>1.874977</td>\n",
       "      <td>0</td>\n",
       "    </tr>\n",
       "    <tr>\n",
       "      <th>1</th>\n",
       "      <td>1.476197</td>\n",
       "      <td>-0.331370</td>\n",
       "      <td>0.216660</td>\n",
       "      <td>0</td>\n",
       "    </tr>\n",
       "    <tr>\n",
       "      <th>2</th>\n",
       "      <td>-1.204339</td>\n",
       "      <td>-1.532669</td>\n",
       "      <td>1.103667</td>\n",
       "      <td>1</td>\n",
       "    </tr>\n",
       "    <tr>\n",
       "      <th>3</th>\n",
       "      <td>-1.063258</td>\n",
       "      <td>-0.811889</td>\n",
       "      <td>1.605019</td>\n",
       "      <td>1</td>\n",
       "    </tr>\n",
       "    <tr>\n",
       "      <th>4</th>\n",
       "      <td>-0.851637</td>\n",
       "      <td>0.069063</td>\n",
       "      <td>-0.014733</td>\n",
       "      <td>0</td>\n",
       "    </tr>\n",
       "    <tr>\n",
       "      <th>...</th>\n",
       "      <td>...</td>\n",
       "      <td>...</td>\n",
       "      <td>...</td>\n",
       "      <td>...</td>\n",
       "    </tr>\n",
       "    <tr>\n",
       "      <th>175</th>\n",
       "      <td>-1.204339</td>\n",
       "      <td>-0.051066</td>\n",
       "      <td>0.178095</td>\n",
       "      <td>0</td>\n",
       "    </tr>\n",
       "    <tr>\n",
       "      <th>176</th>\n",
       "      <td>-0.922177</td>\n",
       "      <td>0.149150</td>\n",
       "      <td>0.178095</td>\n",
       "      <td>1</td>\n",
       "    </tr>\n",
       "    <tr>\n",
       "      <th>177</th>\n",
       "      <td>2.040521</td>\n",
       "      <td>-0.411456</td>\n",
       "      <td>-0.091864</td>\n",
       "      <td>0</td>\n",
       "    </tr>\n",
       "    <tr>\n",
       "      <th>178</th>\n",
       "      <td>1.052955</td>\n",
       "      <td>-1.212322</td>\n",
       "      <td>-1.403092</td>\n",
       "      <td>0</td>\n",
       "    </tr>\n",
       "    <tr>\n",
       "      <th>179</th>\n",
       "      <td>1.758359</td>\n",
       "      <td>-1.572712</td>\n",
       "      <td>-1.827312</td>\n",
       "      <td>1</td>\n",
       "    </tr>\n",
       "  </tbody>\n",
       "</table>\n",
       "<p>178 rows × 4 columns</p>\n",
       "</div>"
      ],
      "text/plain": [
       "          Age  Annual Income  Spending Score  Gender_Male\n",
       "0   -0.287314      -1.572712        1.874977            0\n",
       "1    1.476197      -0.331370        0.216660            0\n",
       "2   -1.204339      -1.532669        1.103667            1\n",
       "3   -1.063258      -0.811889        1.605019            1\n",
       "4   -0.851637       0.069063       -0.014733            0\n",
       "..        ...            ...             ...          ...\n",
       "175 -1.204339      -0.051066        0.178095            0\n",
       "176 -0.922177       0.149150        0.178095            1\n",
       "177  2.040521      -0.411456       -0.091864            0\n",
       "178  1.052955      -1.212322       -1.403092            0\n",
       "179  1.758359      -1.572712       -1.827312            1\n",
       "\n",
       "[178 rows x 4 columns]"
      ]
     },
     "execution_count": 17,
     "metadata": {},
     "output_type": "execute_result"
    }
   ],
   "source": [
    "df_train"
   ]
  },
  {
   "cell_type": "markdown",
   "id": "d1ec7d88",
   "metadata": {},
   "source": [
    "# K - Means Clustering"
   ]
  },
  {
   "cell_type": "code",
   "execution_count": 18,
   "id": "d67a6676",
   "metadata": {},
   "outputs": [],
   "source": [
    "# Implementation of Kmeans\n",
    "np.random.seed(100)\n",
    "\n",
    "class KMeans:\n",
    "    def __init__(self, n_cluster = 3, iterations = 200, num_runs = 50): # Initialize all the default values\n",
    "        self.n_cluster = n_cluster\n",
    "        self.iterations = iterations\n",
    "        self.num_runs = num_runs\n",
    "        self.best_centroids = None\n",
    "        self.best_labels = None\n",
    "        self.best_wcss = float('inf')\n",
    "        self.centroids = None\n",
    "        \n",
    "    def fit(self, data):\n",
    "        # Picking up random points and as initial centroids\n",
    "         for _ in range(self.num_runs):\n",
    "            index = np.random.choice(len(data), self.n_cluster, replace=False)\n",
    "            self.centroids = data[index]\n",
    "        \n",
    "        #Find clusters and update them iteratively and if the old and new centroids are same then stop the iteration\n",
    "            for i in range(self.iterations):\n",
    "                clusterLabels = self.setClusters(data)\n",
    "                new_centroids = self.update_centroids(data, clusterLabels)\n",
    "\n",
    "                if np.all(new_centroids == self.centroids):\n",
    "                    break\n",
    "\n",
    "                self.centroids = new_centroids\n",
    "                \n",
    "                # As the intial data points are randomly picked, find \"within cluster sum of squares\" for a differently picked \n",
    "                # random point and store the best one for a particular cluster\n",
    "                wcss = self.calculate_wcss(data)\n",
    "                if wcss < self.best_wcss:\n",
    "                    self.best_wcss = wcss\n",
    "                    self.best_centroids = self.centroids\n",
    "                    self.best_labels = clusterLabels\n",
    "            \n",
    "    def setClusters(self, data):\n",
    "        labels = np.empty(len(data))\n",
    "        size = len(data)\n",
    "    \n",
    "        # Calculate Euclidean Distance for a data point and all the centroid\n",
    "        for i in range(size):\n",
    "            distanceFromClusters = np.linalg.norm(data[i] - self.centroids, axis = 1)\n",
    "            \n",
    "            # Assigning the data point to the cluster with minimum distance\n",
    "            labels[i] = np.argmin(distanceFromClusters)\n",
    "        \n",
    "        return labels\n",
    "        \n",
    "    def update_centroids(self, data, labels):\n",
    "        \n",
    "        updated_centroids = np.empty((self.n_cluster, len(data[1])))\n",
    "        \n",
    "        # Find all the points belonging to a cluster and find the mean of the data points to update the centroids\n",
    "        for cluster_num in range(self.n_cluster):\n",
    "            points = data[labels == cluster_num]\n",
    "            \n",
    "            updated_centroids[cluster_num] = np.mean(points, axis = 0)\n",
    "        \n",
    "        return updated_centroids\n",
    "    \n",
    "    # Calculate \"Within Cluster sum of squares\" to find the optimal number of clusters\n",
    "    def calculate_wcss(self, data):\n",
    "        \n",
    "        wcss = 0\n",
    "        labels = self.setClusters(data)\n",
    "        \n",
    "        for i in range(self.n_cluster):\n",
    "            points = data[labels == i]\n",
    "            centroid = self.centroids[i]\n",
    "            \n",
    "            wcss = np.sum((points - centroid) ** 2)\n",
    "            \n",
    "        return wcss"
   ]
  },
  {
   "cell_type": "code",
   "execution_count": 19,
   "id": "692f6622",
   "metadata": {},
   "outputs": [
    {
     "data": {
      "image/png": "[encoded data removed]",
      "text/plain": [
       "<Figure size 576x432 with 1 Axes>"
      ]
     },
     "metadata": {
      "needs_background": "light"
     },
     "output_type": "display_data"
    }
   ],
   "source": [
    "# Performing K-Means for all the clusters from 1 to 11 and plotting the elbow graph.\n",
    "# Using the elbow graph to find the optimal number of clusters\n",
    "wcss_val = []\n",
    "data = df_train.to_numpy()\n",
    "cluster_values = [val for val in range(1, 11)]\n",
    "\n",
    "for val in cluster_values:\n",
    "    kmeans = KMeans(val, 500)   \n",
    "    kmeans.fit(data)  \n",
    "    labels = kmeans.setClusters(data)\n",
    "    wcss = kmeans.calculate_wcss(data)\n",
    "    wcss_val.append(wcss)\n",
    "\n",
    "plt.figure(figsize=(8, 6))\n",
    "plt.plot(range(1, 11), wcss_val, marker='o', linestyle='-')\n",
    "plt.title('Elbow Method')\n",
    "plt.xlabel('Number of Clusters (K)')\n",
    "plt.ylabel('WCSS')\n",
    "plt.grid()\n",
    "plt.show()\n"
   ]
  },
  {
   "cell_type": "code",
   "execution_count": 20,
   "id": "6fcece22",
   "metadata": {},
   "outputs": [],
   "source": [
    "# Elbow point is 3\n",
    "# Fit the K-means model for 3 clusters\n",
    "kmeans = KMeans(3, 100)\n",
    "kmeans.fit(data)"
   ]
  },
  {
   "cell_type": "code",
   "execution_count": 21,
   "id": "0048bb6a",
   "metadata": {},
   "outputs": [],
   "source": [
    "# Creater another column in the dataframe and allocate the clusters\n",
    "labels = kmeans.setClusters(data)\n",
    "labels = labels.astype(int)\n",
    "df_train[\"Cluster\"] = np.array(labels)"
   ]
  },
  {
   "cell_type": "code",
   "execution_count": 22,
   "id": "40c0c352",
   "metadata": {},
   "outputs": [
    {
     "data": {
      "text/plain": [
       "array([[-0.92602504, -0.7652934 ,  0.32254009,  0.4       ],\n",
       "       [ 0.73512636,  0.05376601, -0.66428022,  0.46067416],\n",
       "       [-0.42631967,  1.09723417,  1.21709512,  0.47058824]])"
      ]
     },
     "execution_count": 22,
     "metadata": {},
     "output_type": "execute_result"
    }
   ],
   "source": [
    "kmeans.best_centroids"
   ]
  },
  {
   "cell_type": "code",
   "execution_count": 23,
   "id": "6a5196ab",
   "metadata": {},
   "outputs": [
    {
     "data": {
      "text/plain": [
       "(39, 85, 54)"
      ]
     },
     "execution_count": 23,
     "metadata": {},
     "output_type": "execute_result"
    }
   ],
   "source": [
    "len0 = len(df_train[df_train[\"Cluster\"] == 0])\n",
    "len1 = len(df_train[df_train[\"Cluster\"] == 1])\n",
    "len2 = len(df_train[df_train[\"Cluster\"] == 2])\n",
    "\n",
    "len0, len1, len2"
   ]
  },
  {
   "cell_type": "markdown",
   "id": "e0f62b6f",
   "metadata": {},
   "source": [
    "# Clustering Results\n",
    " - Number of Clusters : 3\n",
    " <br> </br>\n",
    " - Centroids : \n",
    "     * Cluster 1 : [-0.92602504, -0.7652934 ,  0.32254009,  0.4       ]\n",
    "     * Cluster 2 : [ 0.73512636,  0.05376601, -0.66428022,  0.46067416]\n",
    "     * Cluster 3 : [-0.42631967,  1.09723417,  1.21709512,  0.47058824]\n",
    " <br> </br>\n",
    "     \n",
    " - Number of data in Clusters:\n",
    "     * Number of data in cluster 0 : 39\n",
    "     * Number of data in cluster 1 : 85\n",
    "     * Number of data in cluster 2 : 54"
   ]
  },
  {
   "cell_type": "code",
   "execution_count": 24,
   "id": "efbfa8fb",
   "metadata": {},
   "outputs": [],
   "source": [
    "df_train[continous_columns] = scaler.inverse_transform(df_train[continous_columns]) "
   ]
  },
  {
   "cell_type": "code",
   "execution_count": 25,
   "id": "29724f47",
   "metadata": {},
   "outputs": [],
   "source": [
    "df_train[\"Gender_Male\"] = df_train[\"Gender_Male\"].map({0 : 'Female', 1 : 'Male'})"
   ]
  },
  {
   "cell_type": "code",
   "execution_count": 26,
   "id": "6860728f",
   "metadata": {},
   "outputs": [
    {
     "data": {
      "text/html": [
       "<div>\n",
       "<style scoped>\n",
       "    .dataframe tbody tr th:only-of-type {\n",
       "        vertical-align: middle;\n",
       "    }\n",
       "\n",
       "    .dataframe tbody tr th {\n",
       "        vertical-align: top;\n",
       "    }\n",
       "\n",
       "    .dataframe thead th {\n",
       "        text-align: right;\n",
       "    }\n",
       "</style>\n",
       "<table border=\"1\" class=\"dataframe\">\n",
       "  <thead>\n",
       "    <tr style=\"text-align: right;\">\n",
       "      <th></th>\n",
       "      <th>Age</th>\n",
       "      <th>Annual Income</th>\n",
       "      <th>Spending Score</th>\n",
       "      <th>Gender_Male</th>\n",
       "      <th>Cluster</th>\n",
       "    </tr>\n",
       "  </thead>\n",
       "  <tbody>\n",
       "    <tr>\n",
       "      <th>0</th>\n",
       "      <td>35.0</td>\n",
       "      <td>19.0</td>\n",
       "      <td>99.0</td>\n",
       "      <td>Female</td>\n",
       "      <td>2</td>\n",
       "    </tr>\n",
       "    <tr>\n",
       "      <th>1</th>\n",
       "      <td>60.0</td>\n",
       "      <td>50.0</td>\n",
       "      <td>56.0</td>\n",
       "      <td>Female</td>\n",
       "      <td>1</td>\n",
       "    </tr>\n",
       "    <tr>\n",
       "      <th>2</th>\n",
       "      <td>22.0</td>\n",
       "      <td>20.0</td>\n",
       "      <td>79.0</td>\n",
       "      <td>Male</td>\n",
       "      <td>2</td>\n",
       "    </tr>\n",
       "    <tr>\n",
       "      <th>3</th>\n",
       "      <td>24.0</td>\n",
       "      <td>38.0</td>\n",
       "      <td>92.0</td>\n",
       "      <td>Male</td>\n",
       "      <td>2</td>\n",
       "    </tr>\n",
       "    <tr>\n",
       "      <th>4</th>\n",
       "      <td>27.0</td>\n",
       "      <td>60.0</td>\n",
       "      <td>50.0</td>\n",
       "      <td>Female</td>\n",
       "      <td>2</td>\n",
       "    </tr>\n",
       "  </tbody>\n",
       "</table>\n",
       "</div>"
      ],
      "text/plain": [
       "    Age  Annual Income  Spending Score Gender_Male  Cluster\n",
       "0  35.0           19.0            99.0      Female        2\n",
       "1  60.0           50.0            56.0      Female        1\n",
       "2  22.0           20.0            79.0        Male        2\n",
       "3  24.0           38.0            92.0        Male        2\n",
       "4  27.0           60.0            50.0      Female        2"
      ]
     },
     "execution_count": 26,
     "metadata": {},
     "output_type": "execute_result"
    }
   ],
   "source": [
    "df_train.head()"
   ]
  },
  {
   "cell_type": "markdown",
   "id": "dced5b88",
   "metadata": {},
   "source": [
    "# Exercise 2"
   ]
  },
  {
   "cell_type": "code",
   "execution_count": 27,
   "id": "8d16acd4",
   "metadata": {},
   "outputs": [],
   "source": [
    "df_0 = df_train[df_train[\"Cluster\"] == 0]\n",
    "df_1 = df_train[df_train[\"Cluster\"] == 1]\n",
    "df_2 = df_train[df_train[\"Cluster\"] == 2]"
   ]
  },
  {
   "cell_type": "code",
   "execution_count": 28,
   "id": "63721c47",
   "metadata": {},
   "outputs": [
    {
     "data": {
      "image/png": "[encoded data removed]",
      "text/plain": [
       "<Figure size 432x288 with 1 Axes>"
      ]
     },
     "metadata": {},
     "output_type": "display_data"
    },
    {
     "data": {
      "image/png": "[encoded data removed]",
      "text/plain": [
       "<Figure size 432x288 with 1 Axes>"
      ]
     },
     "metadata": {},
     "output_type": "display_data"
    },
    {
     "data": {
      "image/png": "[encoded data removed]",
      "text/plain": [
       "<Figure size 432x288 with 1 Axes>"
      ]
     },
     "metadata": {},
     "output_type": "display_data"
    }
   ],
   "source": [
    "#Comparing male and  female ratio in the clusters\n",
    "zero = df_0['Gender_Male'].value_counts().values\n",
    "plt.pie(zero, labels = ['Female', 'Male'], autopct='%1.2f%%')\n",
    "plt.title(\"Cluster 1 Gender comparision\")\n",
    "plt.show()\n",
    "\n",
    "one = df_1['Gender_Male'].value_counts().values\n",
    "plt.pie(one, labels = ['Female', 'Male'], autopct='%1.2f%%')\n",
    "plt.title(\"Cluster 2 Gender comparision\")\n",
    "plt.show()\n",
    "\n",
    "two = df_2['Gender_Male'].value_counts().values\n",
    "plt.pie(two, labels = ['Female', 'Male'], autopct='%1.2f%%')\n",
    "plt.title(\"Cluster 3 Gender comparision\")\n",
    "plt.show()"
   ]
  },
  {
   "cell_type": "code",
   "execution_count": 29,
   "id": "a14ddf80",
   "metadata": {},
   "outputs": [
    {
     "data": {
      "text/html": [
       "<div>\n",
       "<style scoped>\n",
       "    .dataframe tbody tr th:only-of-type {\n",
       "        vertical-align: middle;\n",
       "    }\n",
       "\n",
       "    .dataframe tbody tr th {\n",
       "        vertical-align: top;\n",
       "    }\n",
       "\n",
       "    .dataframe thead th {\n",
       "        text-align: right;\n",
       "    }\n",
       "</style>\n",
       "<table border=\"1\" class=\"dataframe\">\n",
       "  <thead>\n",
       "    <tr style=\"text-align: right;\">\n",
       "      <th></th>\n",
       "      <th>Age</th>\n",
       "      <th>Annual Income</th>\n",
       "      <th>Spending Score</th>\n",
       "    </tr>\n",
       "    <tr>\n",
       "      <th>Cluster</th>\n",
       "      <th></th>\n",
       "      <th></th>\n",
       "      <th></th>\n",
       "    </tr>\n",
       "  </thead>\n",
       "  <tbody>\n",
       "    <tr>\n",
       "      <th>0</th>\n",
       "      <td>33.410256</td>\n",
       "      <td>86.076923</td>\n",
       "      <td>76.358974</td>\n",
       "    </tr>\n",
       "    <tr>\n",
       "      <th>1</th>\n",
       "      <td>50.364706</td>\n",
       "      <td>56.882353</td>\n",
       "      <td>32.776471</td>\n",
       "    </tr>\n",
       "    <tr>\n",
       "      <th>2</th>\n",
       "      <td>25.388889</td>\n",
       "      <td>40.388889</td>\n",
       "      <td>59.333333</td>\n",
       "    </tr>\n",
       "  </tbody>\n",
       "</table>\n",
       "</div>"
      ],
      "text/plain": [
       "               Age  Annual Income  Spending Score\n",
       "Cluster                                          \n",
       "0        33.410256      86.076923       76.358974\n",
       "1        50.364706      56.882353       32.776471\n",
       "2        25.388889      40.388889       59.333333"
      ]
     },
     "execution_count": 29,
     "metadata": {},
     "output_type": "execute_result"
    }
   ],
   "source": [
    "#Find mean for each feature with respect to their cluster\n",
    "m = df_train.groupby([\"Cluster\"]).mean().reset_index()\n",
    "m.set_index(\"Cluster\")"
   ]
  },
  {
   "cell_type": "code",
   "execution_count": 30,
   "id": "851498df",
   "metadata": {
    "scrolled": false
   },
   "outputs": [
    {
     "data": {
      "image/png": "[encoded data removed]",
      "text/plain": [
       "<Figure size 576x432 with 1 Axes>"
      ]
     },
     "metadata": {
      "needs_background": "light"
     },
     "output_type": "display_data"
    }
   ],
   "source": [
    "# Multiple bar chart\n",
    "m.plot(x='Cluster', kind='bar', figsize=(8, 6))\n",
    "\n",
    "plt.xlabel('Cluster')\n",
    "plt.ylabel('Values')\n",
    "plt.title('Cluster Analysis')\n",
    "plt.grid()\n",
    "plt.show()"
   ]
  },
  {
   "cell_type": "markdown",
   "id": "f22640e0",
   "metadata": {},
   "source": [
    "# Cluster Nomenclature\n",
    "\n",
    " - From the above pie chats it can be seen that the gender parity is not significantly different\n",
    " - The clusters can definitely be segmented into \n",
    "     * High spenders (Cluster 0)\n",
    "     * Low spenders (Cluster 1)\n",
    "     * Medium spenders (Cluster 2)\n",
    "     <br> </br>\n",
    " - Low Spenders are old people and they have a moderate income\n",
    " - Medium Spenders are youngsters and they have a low income\n",
    " - High Spenders are Middle aged people and they have high income\n",
    "     <br> </br>\n",
    " \n",
    " - The above statements are validated by finding the mean for the each of the clusters with respect to each features and the values are visualized thus, providing the insights\n",
    " \n",
    " - So, spending score is the criteria that is used to name the clusters which is found through the large deviation between means of this cluster for this feature"
   ]
  },
  {
   "cell_type": "markdown",
   "id": "335b8044",
   "metadata": {},
   "source": [
    "# Marketing Offer\n",
    "\n",
    " #### Low Spenders:\n",
    "  - Senior Discounts\n",
    "  - Provide customization offers which would contain small comfortable portions of food\n",
    "\n",
    " #### Medium Spenders:\n",
    "  - Student Discounts\n",
    "  - Combo Deals\n",
    "  - Special Discounts during evening and night\n",
    "  - Coupons\n",
    " #### High Spenders:\n",
    "  - Loyalty rewards : Give points for their visits\n",
    "  - Family sized pizza bundle offers\n",
    "  - Anniversary Discounts\n",
    " \n",
    " # General Offer\n",
    " - Pizza of the day given at a discounted price\n",
    " - Seasonal Special and discounts\n",
    " - Birthday discounts"
   ]
  },
  {
   "cell_type": "code",
   "execution_count": null,
   "id": "19d9c190",
   "metadata": {},
   "outputs": [],
   "source": []
  },
  {
   "cell_type": "markdown",
   "id": "b3785ae8",
   "metadata": {},
   "source": [
    "# Clustering the test data"
   ]
  },
  {
   "cell_type": "code",
   "execution_count": 31,
   "id": "d6eb1f7c",
   "metadata": {},
   "outputs": [],
   "source": [
    "df_valid = df_test\n",
    "df_v = df_valid.to_numpy()"
   ]
  },
  {
   "cell_type": "code",
   "execution_count": 32,
   "id": "e9fd322a",
   "metadata": {},
   "outputs": [
    {
     "data": {
      "text/plain": [
       "array([1., 1., 2., 1., 2., 0., 1., 1., 2., 2., 1., 2., 1., 1., 0., 0., 1.,\n",
       "       0., 0., 2.])"
      ]
     },
     "execution_count": 32,
     "metadata": {},
     "output_type": "execute_result"
    }
   ],
   "source": [
    "c = kmeans.setClusters(df_v)\n",
    "c"
   ]
  },
  {
   "cell_type": "code",
   "execution_count": 33,
   "id": "20970c76",
   "metadata": {},
   "outputs": [
    {
     "data": {
      "text/html": [
       "<div>\n",
       "<style scoped>\n",
       "    .dataframe tbody tr th:only-of-type {\n",
       "        vertical-align: middle;\n",
       "    }\n",
       "\n",
       "    .dataframe tbody tr th {\n",
       "        vertical-align: top;\n",
       "    }\n",
       "\n",
       "    .dataframe thead th {\n",
       "        text-align: right;\n",
       "    }\n",
       "</style>\n",
       "<table border=\"1\" class=\"dataframe\">\n",
       "  <thead>\n",
       "    <tr style=\"text-align: right;\">\n",
       "      <th></th>\n",
       "      <th>Age</th>\n",
       "      <th>Annual Income</th>\n",
       "      <th>Spending Score</th>\n",
       "      <th>Gender_Male</th>\n",
       "      <th>Cluster</th>\n",
       "    </tr>\n",
       "  </thead>\n",
       "  <tbody>\n",
       "    <tr>\n",
       "      <th>126</th>\n",
       "      <td>0.277010</td>\n",
       "      <td>0.509540</td>\n",
       "      <td>-0.593216</td>\n",
       "      <td>1</td>\n",
       "      <td>1.0</td>\n",
       "    </tr>\n",
       "    <tr>\n",
       "      <th>104</th>\n",
       "      <td>0.700252</td>\n",
       "      <td>0.149150</td>\n",
       "      <td>0.216660</td>\n",
       "      <td>1</td>\n",
       "      <td>1.0</td>\n",
       "    </tr>\n",
       "    <tr>\n",
       "      <th>99</th>\n",
       "      <td>-1.345420</td>\n",
       "      <td>0.109107</td>\n",
       "      <td>-0.053298</td>\n",
       "      <td>1</td>\n",
       "      <td>2.0</td>\n",
       "    </tr>\n",
       "    <tr>\n",
       "      <th>92</th>\n",
       "      <td>0.629712</td>\n",
       "      <td>0.069063</td>\n",
       "      <td>-0.053298</td>\n",
       "      <td>1</td>\n",
       "      <td>1.0</td>\n",
       "    </tr>\n",
       "    <tr>\n",
       "      <th>111</th>\n",
       "      <td>-1.415960</td>\n",
       "      <td>0.189193</td>\n",
       "      <td>0.139529</td>\n",
       "      <td>0</td>\n",
       "      <td>2.0</td>\n",
       "    </tr>\n",
       "    <tr>\n",
       "      <th>167</th>\n",
       "      <td>-0.428394</td>\n",
       "      <td>1.110189</td>\n",
       "      <td>1.720715</td>\n",
       "      <td>0</td>\n",
       "      <td>0.0</td>\n",
       "    </tr>\n",
       "    <tr>\n",
       "      <th>116</th>\n",
       "      <td>1.687818</td>\n",
       "      <td>0.269280</td>\n",
       "      <td>-0.284692</td>\n",
       "      <td>0</td>\n",
       "      <td>1.0</td>\n",
       "    </tr>\n",
       "    <tr>\n",
       "      <th>96</th>\n",
       "      <td>0.559172</td>\n",
       "      <td>0.069063</td>\n",
       "      <td>-0.130429</td>\n",
       "      <td>0</td>\n",
       "      <td>1.0</td>\n",
       "    </tr>\n",
       "    <tr>\n",
       "      <th>52</th>\n",
       "      <td>-0.569475</td>\n",
       "      <td>-0.611673</td>\n",
       "      <td>0.139529</td>\n",
       "      <td>0</td>\n",
       "      <td>2.0</td>\n",
       "    </tr>\n",
       "    <tr>\n",
       "      <th>69</th>\n",
       "      <td>-0.498935</td>\n",
       "      <td>-0.411456</td>\n",
       "      <td>-0.130429</td>\n",
       "      <td>0</td>\n",
       "      <td>2.0</td>\n",
       "    </tr>\n",
       "    <tr>\n",
       "      <th>164</th>\n",
       "      <td>0.770793</td>\n",
       "      <td>1.070146</td>\n",
       "      <td>-0.940305</td>\n",
       "      <td>1</td>\n",
       "      <td>1.0</td>\n",
       "    </tr>\n",
       "    <tr>\n",
       "      <th>124</th>\n",
       "      <td>-1.133799</td>\n",
       "      <td>0.469496</td>\n",
       "      <td>-0.824609</td>\n",
       "      <td>0</td>\n",
       "      <td>2.0</td>\n",
       "    </tr>\n",
       "    <tr>\n",
       "      <th>182</th>\n",
       "      <td>0.488631</td>\n",
       "      <td>1.590709</td>\n",
       "      <td>-1.364526</td>\n",
       "      <td>1</td>\n",
       "      <td>1.0</td>\n",
       "    </tr>\n",
       "    <tr>\n",
       "      <th>154</th>\n",
       "      <td>0.559172</td>\n",
       "      <td>0.789843</td>\n",
       "      <td>-1.325961</td>\n",
       "      <td>0</td>\n",
       "      <td>1.0</td>\n",
       "    </tr>\n",
       "    <tr>\n",
       "      <th>125</th>\n",
       "      <td>-0.569475</td>\n",
       "      <td>0.469496</td>\n",
       "      <td>1.026536</td>\n",
       "      <td>0</td>\n",
       "      <td>0.0</td>\n",
       "    </tr>\n",
       "    <tr>\n",
       "      <th>196</th>\n",
       "      <td>0.418091</td>\n",
       "      <td>2.711922</td>\n",
       "      <td>-0.863174</td>\n",
       "      <td>0</td>\n",
       "      <td>0.0</td>\n",
       "    </tr>\n",
       "    <tr>\n",
       "      <th>194</th>\n",
       "      <td>0.559172</td>\n",
       "      <td>2.471662</td>\n",
       "      <td>-1.325961</td>\n",
       "      <td>0</td>\n",
       "      <td>1.0</td>\n",
       "    </tr>\n",
       "    <tr>\n",
       "      <th>177</th>\n",
       "      <td>-0.851637</td>\n",
       "      <td>1.190276</td>\n",
       "      <td>0.718012</td>\n",
       "      <td>1</td>\n",
       "      <td>0.0</td>\n",
       "    </tr>\n",
       "    <tr>\n",
       "      <th>163</th>\n",
       "      <td>-0.569475</td>\n",
       "      <td>0.909973</td>\n",
       "      <td>1.643584</td>\n",
       "      <td>0</td>\n",
       "      <td>0.0</td>\n",
       "    </tr>\n",
       "    <tr>\n",
       "      <th>31</th>\n",
       "      <td>-1.274880</td>\n",
       "      <td>-1.132236</td>\n",
       "      <td>0.872274</td>\n",
       "      <td>0</td>\n",
       "      <td>2.0</td>\n",
       "    </tr>\n",
       "  </tbody>\n",
       "</table>\n",
       "</div>"
      ],
      "text/plain": [
       "          Age  Annual Income  Spending Score  Gender_Male  Cluster\n",
       "126  0.277010       0.509540       -0.593216            1      1.0\n",
       "104  0.700252       0.149150        0.216660            1      1.0\n",
       "99  -1.345420       0.109107       -0.053298            1      2.0\n",
       "92   0.629712       0.069063       -0.053298            1      1.0\n",
       "111 -1.415960       0.189193        0.139529            0      2.0\n",
       "167 -0.428394       1.110189        1.720715            0      0.0\n",
       "116  1.687818       0.269280       -0.284692            0      1.0\n",
       "96   0.559172       0.069063       -0.130429            0      1.0\n",
       "52  -0.569475      -0.611673        0.139529            0      2.0\n",
       "69  -0.498935      -0.411456       -0.130429            0      2.0\n",
       "164  0.770793       1.070146       -0.940305            1      1.0\n",
       "124 -1.133799       0.469496       -0.824609            0      2.0\n",
       "182  0.488631       1.590709       -1.364526            1      1.0\n",
       "154  0.559172       0.789843       -1.325961            0      1.0\n",
       "125 -0.569475       0.469496        1.026536            0      0.0\n",
       "196  0.418091       2.711922       -0.863174            0      0.0\n",
       "194  0.559172       2.471662       -1.325961            0      1.0\n",
       "177 -0.851637       1.190276        0.718012            1      0.0\n",
       "163 -0.569475       0.909973        1.643584            0      0.0\n",
       "31  -1.274880      -1.132236        0.872274            0      2.0"
      ]
     },
     "execution_count": 33,
     "metadata": {},
     "output_type": "execute_result"
    }
   ],
   "source": [
    "df_valid[\"Cluster\"] = c\n",
    "df_valid"
   ]
  },
  {
   "cell_type": "code",
   "execution_count": 34,
   "id": "2d7d21f7",
   "metadata": {},
   "outputs": [
    {
     "data": {
      "text/html": [
       "<div>\n",
       "<style scoped>\n",
       "    .dataframe tbody tr th:only-of-type {\n",
       "        vertical-align: middle;\n",
       "    }\n",
       "\n",
       "    .dataframe tbody tr th {\n",
       "        vertical-align: top;\n",
       "    }\n",
       "\n",
       "    .dataframe thead th {\n",
       "        text-align: right;\n",
       "    }\n",
       "</style>\n",
       "<table border=\"1\" class=\"dataframe\">\n",
       "  <thead>\n",
       "    <tr style=\"text-align: right;\">\n",
       "      <th></th>\n",
       "      <th>Age</th>\n",
       "      <th>Annual Income</th>\n",
       "      <th>Spending Score</th>\n",
       "      <th>Gender_Male</th>\n",
       "      <th>Cluster</th>\n",
       "    </tr>\n",
       "  </thead>\n",
       "  <tbody>\n",
       "    <tr>\n",
       "      <th>126</th>\n",
       "      <td>43.0</td>\n",
       "      <td>71.0</td>\n",
       "      <td>35.0</td>\n",
       "      <td>1</td>\n",
       "      <td>1.0</td>\n",
       "    </tr>\n",
       "    <tr>\n",
       "      <th>104</th>\n",
       "      <td>49.0</td>\n",
       "      <td>62.0</td>\n",
       "      <td>56.0</td>\n",
       "      <td>1</td>\n",
       "      <td>1.0</td>\n",
       "    </tr>\n",
       "    <tr>\n",
       "      <th>99</th>\n",
       "      <td>20.0</td>\n",
       "      <td>61.0</td>\n",
       "      <td>49.0</td>\n",
       "      <td>1</td>\n",
       "      <td>2.0</td>\n",
       "    </tr>\n",
       "    <tr>\n",
       "      <th>92</th>\n",
       "      <td>48.0</td>\n",
       "      <td>60.0</td>\n",
       "      <td>49.0</td>\n",
       "      <td>1</td>\n",
       "      <td>1.0</td>\n",
       "    </tr>\n",
       "    <tr>\n",
       "      <th>111</th>\n",
       "      <td>19.0</td>\n",
       "      <td>63.0</td>\n",
       "      <td>54.0</td>\n",
       "      <td>0</td>\n",
       "      <td>2.0</td>\n",
       "    </tr>\n",
       "  </tbody>\n",
       "</table>\n",
       "</div>"
      ],
      "text/plain": [
       "      Age  Annual Income  Spending Score  Gender_Male  Cluster\n",
       "126  43.0           71.0            35.0            1      1.0\n",
       "104  49.0           62.0            56.0            1      1.0\n",
       "99   20.0           61.0            49.0            1      2.0\n",
       "92   48.0           60.0            49.0            1      1.0\n",
       "111  19.0           63.0            54.0            0      2.0"
      ]
     },
     "execution_count": 34,
     "metadata": {},
     "output_type": "execute_result"
    }
   ],
   "source": [
    "df_valid[continous_columns] = scaler.inverse_transform(df_valid[continous_columns])\n",
    "df_valid.head()"
   ]
  },
  {
   "cell_type": "code",
   "execution_count": null,
   "id": "bffdfb0f",
   "metadata": {},
   "outputs": [],
   "source": []
  }
 ],
 "metadata": {
  "kernelspec": {
   "display_name": "Python 3 (ipykernel)",
   "language": "python",
   "name": "python3"
  },
  "language_info": {
   "codemirror_mode": {
    "name": "ipython",
    "version": 3
   },
   "file_extension": ".py",
   "mimetype": "text/x-python",
   "name": "python",
   "nbconvert_exporter": "python",
   "pygments_lexer": "ipython3",
   "version": "3.7.9"
  }
 },
 "nbformat": 4,
 "nbformat_minor": 5
}
